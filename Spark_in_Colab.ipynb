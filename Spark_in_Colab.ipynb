{
  "nbformat": 4,
  "nbformat_minor": 0,
  "metadata": {
    "colab": {
      "provenance": [],
      "include_colab_link": true
    },
    "kernelspec": {
      "name": "python3",
      "display_name": "Python 3"
    },
    "language_info": {
      "name": "python"
    }
  },
  "cells": [
    {
      "cell_type": "markdown",
      "metadata": {
        "id": "view-in-github",
        "colab_type": "text"
      },
      "source": [
        "<a href=\"https://colab.research.google.com/github/Tinker0425/de-zoomcamp-my-work/blob/master/Spark_in_Colab.ipynb\" target=\"_parent\"><img src=\"https://colab.research.google.com/assets/colab-badge.svg\" alt=\"Open In Colab\"/></a>"
      ]
    },
    {
      "cell_type": "markdown",
      "source": [
        "# Prerequisites\n",
        "Sign up to https://ngrok.com/ to be able to reach Spark UI"
      ],
      "metadata": {
        "id": "EmXS59l00s7l"
      }
    },
    {
      "cell_type": "code",
      "execution_count": 1,
      "metadata": {
        "id": "RSaYGSm1gPO7"
      },
      "outputs": [],
      "source": [
        "%%capture\n",
        "!pip install pyspark\n",
        "!pip install findspark\n",
        "!pip install pyngrok"
      ]
    },
    {
      "cell_type": "code",
      "source": [
        "import findspark\n",
        "findspark.init()\n",
        "from pyspark.sql import SparkSession"
      ],
      "metadata": {
        "id": "PFKpzAaSgUjA"
      },
      "execution_count": 2,
      "outputs": []
    },
    {
      "cell_type": "code",
      "source": [
        "spark = SparkSession.builder \\\n",
        "        .appName('testColab') \\\n",
        "        .getOrCreate()"
      ],
      "metadata": {
        "id": "rVt1eyR1jHRT"
      },
      "execution_count": 3,
      "outputs": []
    },
    {
      "cell_type": "markdown",
      "source": [
        "# Start a tunnel to access SparkUI\n",
        "\n",
        "Open a ngrok tunnel to the HTTP server"
      ],
      "metadata": {
        "id": "swvWh17c1Ump"
      }
    },
    {
      "cell_type": "code",
      "source": [
        "from pyngrok import ngrok, conf\n",
        "import getpass\n",
        "\n",
        "print(\"Enter your authtoken, which can be copied \"\n",
        "\"from https://dashboard.ngrok.com/get-started/your-authtoken\")\n",
        "conf.get_default().auth_token = getpass.getpass()\n",
        "\n",
        "ui_port = 4040\n",
        "public_url = ngrok.connect(ui_port).public_url\n",
        "print(f\" * ngrok tunnel \\\"{public_url}\\\" -> \\\"http://127.0.0.1:{ui_port}\\\"\")"
      ],
      "metadata": {
        "colab": {
          "base_uri": "https://localhost:8080/"
        },
        "id": "ynYMotFwxGcX",
        "outputId": "9405e55a-51e3-47a1-eec1-1155223b6036"
      },
      "execution_count": 4,
      "outputs": [
        {
          "output_type": "stream",
          "name": "stdout",
          "text": [
            "Enter your authtoken, which can be copied from https://dashboard.ngrok.com/get-started/your-authtoken\n",
            "··········\n"
          ]
        },
        {
          "output_type": "stream",
          "name": "stderr",
          "text": [
            "WARNING:pyngrok.process.ngrok:t=2025-03-04T00:51:22+0000 lvl=warn msg=\"can't bind default web address, trying alternatives\" obj=web addr=127.0.0.1:4040\n"
          ]
        },
        {
          "output_type": "stream",
          "name": "stdout",
          "text": [
            " * ngrok tunnel \"https://1e4b-34-106-193-35.ngrok-free.app\" -> \"http://127.0.0.1:4040\"\n"
          ]
        }
      ]
    },
    {
      "cell_type": "markdown",
      "source": [
        "## Download Yellow Taxi Trip records data, read it in with Spark, and count the number of rows\n",
        "\n",
        "Data source: https://www.nyc.gov/site/tlc/about/tlc-trip-record-data.page"
      ],
      "metadata": {
        "id": "84401itCkpCY"
      }
    },
    {
      "cell_type": "code",
      "source": [
        "from pyspark import SparkFiles\n",
        "\n",
        "file_url = 'https://d37ci6vzurychx.cloudfront.net/trip-data/yellow_tripdata_2023-07.parquet'\n",
        "spark.sparkContext.addFile(file_url)\n",
        "\n",
        "df = spark.read.csv(SparkFiles.get('yellow_tripdata_2023-07.parquet'), header=True)\n",
        "\n",
        "df.count()"
      ],
      "metadata": {
        "id": "vZaeQd0va3h1",
        "colab": {
          "base_uri": "https://localhost:8080/"
        },
        "outputId": "fdc98832-c0eb-4919-b9e7-ed05b457c64e"
      },
      "execution_count": 5,
      "outputs": [
        {
          "output_type": "execute_result",
          "data": {
            "text/plain": [
              "377471"
            ]
          },
          "metadata": {},
          "execution_count": 5
        }
      ]
    },
    {
      "cell_type": "markdown",
      "source": [
        "File from video"
      ],
      "metadata": {
        "id": "NAT4NGJtpV9S"
      }
    },
    {
      "cell_type": "code",
      "source": [
        "import pyspark"
      ],
      "metadata": {
        "id": "XbDSyeEEo7wp"
      },
      "execution_count": 6,
      "outputs": []
    },
    {
      "cell_type": "code",
      "source": [
        "pyspark.__file__"
      ],
      "metadata": {
        "id": "lWNqVQvipCFG",
        "outputId": "b6dee373-0ef6-4755-8de4-bf1772db4183",
        "colab": {
          "base_uri": "https://localhost:8080/",
          "height": 35
        }
      },
      "execution_count": 7,
      "outputs": [
        {
          "output_type": "execute_result",
          "data": {
            "text/plain": [
              "'/usr/local/lib/python3.11/dist-packages/pyspark/__init__.py'"
            ],
            "application/vnd.google.colaboratory.intrinsic+json": {
              "type": "string"
            }
          },
          "metadata": {},
          "execution_count": 7
        }
      ]
    },
    {
      "cell_type": "code",
      "source": [
        "from pyspark.sql import SparkSession"
      ],
      "metadata": {
        "id": "wazHUYLppPc7"
      },
      "execution_count": 8,
      "outputs": []
    },
    {
      "cell_type": "code",
      "source": [
        "spark = SparkSession.builder \\\n",
        "    .master(\"local[*]\") \\\n",
        "    .appName('test') \\\n",
        "    .getOrCreate()"
      ],
      "metadata": {
        "id": "NhbqDnshpY_Z"
      },
      "execution_count": 9,
      "outputs": []
    },
    {
      "cell_type": "code",
      "source": [
        "!wget https://d37ci6vzurychx.cloudfront.net/trip-data/yellow_tripdata_2024-10.parquet\n"
      ],
      "metadata": {
        "id": "jcjeA7aSpb_k",
        "outputId": "d9952cac-e28c-44fa-869d-ab30efeae30e",
        "colab": {
          "base_uri": "https://localhost:8080/"
        }
      },
      "execution_count": 12,
      "outputs": [
        {
          "output_type": "stream",
          "name": "stdout",
          "text": [
            "--2025-03-04 00:58:34--  https://d37ci6vzurychx.cloudfront.net/trip-data/yellow_tripdata_2024-10.parquet\n",
            "Resolving d37ci6vzurychx.cloudfront.net (d37ci6vzurychx.cloudfront.net)... 18.154.99.220, 18.154.99.225, 18.154.99.177, ...\n",
            "Connecting to d37ci6vzurychx.cloudfront.net (d37ci6vzurychx.cloudfront.net)|18.154.99.220|:443... connected.\n",
            "HTTP request sent, awaiting response... 200 OK\n",
            "Length: 64346071 (61M) [binary/octet-stream]\n",
            "Saving to: ‘yellow_tripdata_2024-10.parquet’\n",
            "\n",
            "yellow_tripdata_202 100%[===================>]  61.36M   156MB/s    in 0.4s    \n",
            "\n",
            "2025-03-04 00:58:34 (156 MB/s) - ‘yellow_tripdata_2024-10.parquet’ saved [64346071/64346071]\n",
            "\n"
          ]
        }
      ]
    },
    {
      "cell_type": "code",
      "source": [
        "!head yellow_tripdata_2024-10.parquet"
      ],
      "metadata": {
        "id": "M0lyw5cqqaDC",
        "outputId": "298daaef-28bf-41ae-9ca8-7d4201e05f57",
        "colab": {
          "base_uri": "https://localhost:8080/"
        }
      },
      "execution_count": 13,
      "outputs": [
        {
          "output_type": "stream",
          "name": "stdout",
          "text": [
            "PAR1\u0015\u0004\u0015\u0010\u0015\"L\u0015\u0004\u0015\u0000\u0012\u0000\u0000(�/� \bA\u0000\u0000\u0002\u0000\u0000\u0000\u0001\u0000\u0000\u0000\u0015\u0000\u0015��\u0013\u0015��\u000e,\u0015���\u0001\u0015\u0010\u0015\u0006\u0015\u0006\u001c\u0018\u0004\u0002\u0000\u0000\u0000\u0018\u0004\u0001\u0000\u0000\u0000\u0016\u0000(\u0004\u0002\u0000\u0000\u0000\u0018\u0004\u0001\u0000\u0000\u0000\u0000\u0000\u0000(�/���h\u0002\u0000�H\f\u000e\u0000`EbS\u0010hf���F�\u0017Yi��a�\u0005��\u001cs��1w'�\n",
            "H��\u0002�\u0011\u0015��}���V*�t��\u001dpA��#\u000f�b���\u000e\u0006\u001c�a����jh%$#���^B�vK\"S�a\u0011b,b�\u001e�J\u001eF�K���\u001a\u001aӓ��{�6��W�k�L~�Zv���|쾥��\u0007��/t�\u0014\u000b\u0001�m�J�i'M�\u0012�Cm\u0005P��^c������y\u0000 k\u001fp\u000f��ѧ��1�\u0011{�t��v\u0011 ��4M�v���u=y3ƁP��v\u0010�\t�m�K_���J\u001cn����q�f����튘;ij����\t�c\u000f\r3�>\u0010�9L�Z�\t\u0001��&�e\u0006�^#\u0002'L���H�\u0015����y��\u0010�����_�q�]T��\u0003\u000f�\u0002�.r1���ԟAC��gdL���`\u000b�Ճ=�(��a�2h�]o�o5&gs_�J\u001f��\u000fr_��\u0014��\u0013�_.���f�>5�\u0003z��c��\u0004���.�oC\u001a�\"{�\u000e\n",
            "��\u0018��\u001fw�1��\u0012ͤ�T(=�r� ��E�\u0004�-�P��A��\u0017O}\u001bX?$��S��JI�\u0014��L�z\u001bQ�7��\u0013�&\u001e��\u0004���ЧL\u001c���\bz;��\u001e\u001c9���\u001d�\u0005����M���\u001c����/�k`��W�f����Om=����>5d�{�H>X���p�\tv����iq���=գ�~ܱ�_��jH�\u0005����Ճ�C\u001f�D�\u000fs�\u001fٯ�ol��6�[*f����(���4L�m\u0016�}r�޿{D\u0000 ߒw�� ���\u001f+U��W[��J��\b�P:�LjD.����\u0003.\u001f��\\\u0018wk���r��\u0010\u0016���e��!\"�ߵ\u0000=���e�Ǔ�A~�\u0017����:��ow�ݯ�U�U�[q�z\u0007t��~�Uz\u0016ɇ>��\u0013�_�1�A�8F{p��\u001d-Z̗�N�@\u0011Ӈݷ=��믪�G K��p�\u0012�>uZ{\u0001ۥO���l����I2�\u001b��h����)R�*ۋ��I�|\"�}�)�+�SCQ�w�5wС{I��}�L\u001f�~���\u0017\u001aׇLr=��\b�\u001e,!1}�����z��8ID��n=5Q�ܦ��o�n���L\u001f�2�����m�F�ӏ\u0018�`�у[��>�^=���]��\f�H�/hѧB��m\u0015\f�\u001fk�v?,����b�r��S�I��P�S�\u0010������Q��\u0001�oC��Ō�Q h�\u001a�ۖG�y���( �\u001dRGׯ����U�qߖ���l\u0007q\u000f�z��P�\u0012�c�(F�\u000e�\u001aO�mHfb��Wz�}��R�����Řѫ>\u0004r[���n\u00133W?�mB���t��p\u0007�>\u0010\u001e�\u0003[���y-q�;j\ts\u0004��Σ\f��^��\u0001��|.�FC���S{�^��Y��\u0015G_v������e��7\u001b�����\u001f��I(�t��5\u001d�^\u0006�\u0012T��G\u0016cW*)}�L1��\u0001X1f�\n",
            "��\\.#&#���}�/���wz��U���\u001a���2O��\u0016m���6!�\u001flK\u000f\u0015� ��\\�~�.�\u0005/\u001feZ\b.��y\u0007{�Ve��\u0015�rR\u0000�H=X�9t\u001f���YK����V,ԯ�\u0012��}\u001b!/z\u0016�G��h\t�︘>�>��w�\u000f�����SR�~�~�o��\u001f�-�Q1N>{tױ������b՞��t{7����e�w��\n",
            "��ܗQ$D?rC@�?�#\u001bF\u0013��h����G�L_#����Ͷ��xy\u0018�ǩ�\u0019�D���}���}�'i���ǫG��k�Tc١\u001c�,�V����r��1�\u001f�LC�������ճj߆o.s�)�C�E_°��\u001b\u0016�\u0005�>���S'�|{��\u0014_�\u0010����ANWe{0H��q�'�\u0007�l�q\u001f=\"z��$�舠�ά_���\"�N�\u000b��%Ѫ/\u001fK��\u001b]J���?�(\f�$0��u1/G�8J=X6}X�)��T�<���X���\u0017�܆JO�x�2Z�Zσ\u0017D��L?C<˫å]�E\"1\u001b\u0013��y�Ջe���<��/zҪ�G���6�,��k4�>�z��zS�����``��\u0018�A��,�\u001e�b\u0014��qG�g�,�l\tq1r�Sgۗ'�tp�M2\u001c�Ao'\t�\u000e��=�Y�ԣʦO��#Dܿ���6���7^�'\u0017���C�α\u00075p�Ȗ��O�x\u001f�`z\u0010����h�\u0012\u0004�N\u0016�\u0015\u0003�q�\n",
            "�$��t���yE�\u0007k%�m�7��\u0017�\u0011f�^FO\u001f�O�'�{���� 1�n�_\u0013��Lޫ>\u0007�X�Oy}[�o���U�\u000f�4\u0013q�H\u001dJ�K'XLHV\u0002��\f�&Q����\\�\u0011�퍾�DC����\r7!\b\u0014�?R�Ԉ`)M�v9�E|\u001a�T$\u0004h\bW'�-YF\u001d��\u0016�\u0011�ܖ�P\t��T<X}�čQ�u�\r�f\u0006��D��\t��z�]�8K{�ᾍ�G�F�'�\fq��1�W�L����!��5�7�\u001f�Yׯb�\f(I��\\�\u000e��H�)�(;��I�~�}+���r�\u000fM ���5=}q�Zov��� )�̝\u0006�JL=�r�\u0000w���)!n\ri�;_�%\u001f����\u0004��I�m����'-\r�\f�[9�g���K\u0014%�\u001aU��\u0013\t���\u0001\u0001�p��u\u0003�H�BOn��r\u001fu�p=��/��'ɬ�V����@����H\u001c>�!>{�\u0012���X3\u0004B\u001c��4}�Y�\u0000�݊1�hm{\u0017I��Q}�=��r��``�[R\u000bH�H�G�\u000e�\fѣ���ڷ��\u0017E0��<\u0000��C�\u000e)i`d\u001e�0z�\u00163�;\b����;�:`+w��ޫ���nIL�����7\u001a��8O�7-N�\u001c���j0�`\n",
            "�t�\\��#�\u0007�2F��.�6�W�T���7g\u0013$��(�>8\u0001�\u000fg���P�G,�ES�!`��F3�a��#�F��.nX�\n",
            "��w�V�~�)�+\u0016Q\u0019�+�$֧Jw1\tW���v�;�\u0007�\"4�S��S\u001f~��������P�\u000bIw\u0007��Bc\u0004��?x��=\u0007S�\u0007\"������x�d�^�\u0014z��tb�zq5r=\u000f&J�'a.׏�\u0007mӧ\u0016�\u001fO������ ����T?��\u0017w\u0000�0�7b\r�6�,�5DK_��d\u0003�諲�\n",
            "���\\�t�߬,ף�Eo��GY\u0019\u001c�G  !S�W\u0017��A��>$`��#0^-Y�-5�.>qN`���\n",
            "\u001ff�D�\u0003\u001f����\u0014�\u0016m��He�[ �6��\rLߪ��\u001a���s3��}�%G�=eM�\n"
          ]
        }
      ]
    },
    {
      "cell_type": "code",
      "source": [
        "spark.version"
      ],
      "metadata": {
        "id": "kSX0SJtDqpSh",
        "outputId": "8b4d8d42-a5d0-4319-c6cc-1defe2588277",
        "colab": {
          "base_uri": "https://localhost:8080/",
          "height": 35
        }
      },
      "execution_count": 14,
      "outputs": [
        {
          "output_type": "execute_result",
          "data": {
            "text/plain": [
              "'3.5.5'"
            ],
            "application/vnd.google.colaboratory.intrinsic+json": {
              "type": "string"
            }
          },
          "metadata": {},
          "execution_count": 14
        }
      ]
    },
    {
      "cell_type": "code",
      "source": [
        "# Optionally put the tunnel down\n",
        "# ngrok.disconnect(public_url)"
      ],
      "metadata": {
        "id": "5iluhZqWyIPk"
      },
      "execution_count": null,
      "outputs": []
    },
    {
      "cell_type": "code",
      "source": [],
      "metadata": {
        "id": "uMrdM-zjQ_Bb"
      },
      "execution_count": null,
      "outputs": []
    }
  ]
}